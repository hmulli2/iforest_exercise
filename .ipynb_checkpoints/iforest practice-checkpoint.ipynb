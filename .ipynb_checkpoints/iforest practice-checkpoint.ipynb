{
 "cells": [
  {
   "cell_type": "code",
   "execution_count": 2,
   "id": "0953f24a-643b-4d47-91d1-9e45dfb4961f",
   "metadata": {},
   "outputs": [
    {
     "name": "stdout",
     "output_type": "stream",
     "text": [
      "Collecting scikit-learn\n",
      "  Downloading scikit_learn-1.1.1-cp310-cp310-win_amd64.whl (7.3 MB)\n",
      "Requirement already satisfied: scipy in c:\\users\\henry\\anaconda3\\envs\\dia-learning-1\\lib\\site-packages (1.8.1)\n",
      "Requirement already satisfied: matplotlib in c:\\users\\henry\\anaconda3\\envs\\dia-learning-1\\lib\\site-packages (3.5.2)\n",
      "Requirement already satisfied: numpy>=1.17.3 in c:\\users\\henry\\anaconda3\\envs\\dia-learning-1\\lib\\site-packages (from scikit-learn) (1.23.0)\n",
      "Collecting joblib>=1.0.0\n",
      "  Downloading joblib-1.1.0-py2.py3-none-any.whl (306 kB)\n",
      "Collecting threadpoolctl>=2.0.0\n",
      "  Downloading threadpoolctl-3.1.0-py3-none-any.whl (14 kB)\n",
      "Requirement already satisfied: packaging>=20.0 in c:\\users\\henry\\anaconda3\\envs\\dia-learning-1\\lib\\site-packages (from matplotlib) (21.3)\n",
      "Requirement already satisfied: fonttools>=4.22.0 in c:\\users\\henry\\anaconda3\\envs\\dia-learning-1\\lib\\site-packages (from matplotlib) (4.33.3)\n",
      "Requirement already satisfied: pyparsing>=2.2.1 in c:\\users\\henry\\anaconda3\\envs\\dia-learning-1\\lib\\site-packages (from matplotlib) (3.0.9)\n",
      "Requirement already satisfied: python-dateutil>=2.7 in c:\\users\\henry\\anaconda3\\envs\\dia-learning-1\\lib\\site-packages (from matplotlib) (2.8.2)\n",
      "Requirement already satisfied: cycler>=0.10 in c:\\users\\henry\\anaconda3\\envs\\dia-learning-1\\lib\\site-packages (from matplotlib) (0.11.0)\n",
      "Requirement already satisfied: kiwisolver>=1.0.1 in c:\\users\\henry\\anaconda3\\envs\\dia-learning-1\\lib\\site-packages (from matplotlib) (1.4.3)\n",
      "Requirement already satisfied: pillow>=6.2.0 in c:\\users\\henry\\anaconda3\\envs\\dia-learning-1\\lib\\site-packages (from matplotlib) (9.1.1)\n",
      "Requirement already satisfied: six>=1.5 in c:\\users\\henry\\anaconda3\\envs\\dia-learning-1\\lib\\site-packages (from python-dateutil>=2.7->matplotlib) (1.16.0)\n",
      "Installing collected packages: threadpoolctl, joblib, scikit-learn\n",
      "Successfully installed joblib-1.1.0 scikit-learn-1.1.1 threadpoolctl-3.1.0\n",
      "Note: you may need to restart the kernel to use updated packages.\n"
     ]
    }
   ],
   "source": [
    "pip install -U scikit-learn scipy matplotlib"
   ]
  },
  {
   "cell_type": "code",
   "execution_count": 3,
   "id": "0745c998-d1ce-481f-9a43-b1078f79db88",
   "metadata": {},
   "outputs": [
    {
     "data": {
      "text/html": [
       "<div>\n",
       "<style scoped>\n",
       "    .dataframe tbody tr th:only-of-type {\n",
       "        vertical-align: middle;\n",
       "    }\n",
       "\n",
       "    .dataframe tbody tr th {\n",
       "        vertical-align: top;\n",
       "    }\n",
       "\n",
       "    .dataframe thead th {\n",
       "        text-align: right;\n",
       "    }\n",
       "</style>\n",
       "<table border=\"1\" class=\"dataframe\">\n",
       "  <thead>\n",
       "    <tr style=\"text-align: right;\">\n",
       "      <th></th>\n",
       "      <th>id</th>\n",
       "      <th>first_name</th>\n",
       "      <th>last_name</th>\n",
       "      <th>email</th>\n",
       "      <th>gender</th>\n",
       "      <th>Car make</th>\n",
       "      <th>Car model</th>\n",
       "      <th>Car year</th>\n",
       "    </tr>\n",
       "  </thead>\n",
       "  <tbody>\n",
       "    <tr>\n",
       "      <th>0</th>\n",
       "      <td>1</td>\n",
       "      <td>Lucine</td>\n",
       "      <td>Allworthy</td>\n",
       "      <td>lallworthy0@craigslist.org</td>\n",
       "      <td>Female</td>\n",
       "      <td>GMC</td>\n",
       "      <td>Savana 3500</td>\n",
       "      <td>2007</td>\n",
       "    </tr>\n",
       "    <tr>\n",
       "      <th>1</th>\n",
       "      <td>2</td>\n",
       "      <td>Edgard</td>\n",
       "      <td>Demanche</td>\n",
       "      <td>edemanche1@furl.net</td>\n",
       "      <td>Male</td>\n",
       "      <td>Honda</td>\n",
       "      <td>Civic</td>\n",
       "      <td>2004</td>\n",
       "    </tr>\n",
       "    <tr>\n",
       "      <th>2</th>\n",
       "      <td>3</td>\n",
       "      <td>Temp</td>\n",
       "      <td>Lappine</td>\n",
       "      <td>tlappine2@ezinearticles.com</td>\n",
       "      <td>Male</td>\n",
       "      <td>Subaru</td>\n",
       "      <td>SVX</td>\n",
       "      <td>1996</td>\n",
       "    </tr>\n",
       "    <tr>\n",
       "      <th>3</th>\n",
       "      <td>4</td>\n",
       "      <td>Carlos</td>\n",
       "      <td>Haggerty</td>\n",
       "      <td>chaggerty3@cpanel.net</td>\n",
       "      <td>Polygender</td>\n",
       "      <td>Mazda</td>\n",
       "      <td>MX-5</td>\n",
       "      <td>2004</td>\n",
       "    </tr>\n",
       "    <tr>\n",
       "      <th>4</th>\n",
       "      <td>5</td>\n",
       "      <td>Shaw</td>\n",
       "      <td>Murrigan</td>\n",
       "      <td>smurrigan4@cnn.com</td>\n",
       "      <td>Male</td>\n",
       "      <td>Dodge</td>\n",
       "      <td>Charger</td>\n",
       "      <td>2006</td>\n",
       "    </tr>\n",
       "    <tr>\n",
       "      <th>5</th>\n",
       "      <td>6</td>\n",
       "      <td>Hilliard</td>\n",
       "      <td>Slym</td>\n",
       "      <td>hslym5@friendfeed.com</td>\n",
       "      <td>Male</td>\n",
       "      <td>Mercedes-Benz</td>\n",
       "      <td>300SD</td>\n",
       "      <td>1992</td>\n",
       "    </tr>\n",
       "    <tr>\n",
       "      <th>6</th>\n",
       "      <td>7</td>\n",
       "      <td>Editha</td>\n",
       "      <td>Bonnette</td>\n",
       "      <td>ebonnette6@photobucket.com</td>\n",
       "      <td>Female</td>\n",
       "      <td>Mitsubishi</td>\n",
       "      <td>Outlander</td>\n",
       "      <td>2008</td>\n",
       "    </tr>\n",
       "    <tr>\n",
       "      <th>7</th>\n",
       "      <td>8</td>\n",
       "      <td>Lorin</td>\n",
       "      <td>Newns</td>\n",
       "      <td>lnewns7@gov.uk</td>\n",
       "      <td>Male</td>\n",
       "      <td>Plymouth</td>\n",
       "      <td>Grand Voyager</td>\n",
       "      <td>1996</td>\n",
       "    </tr>\n",
       "    <tr>\n",
       "      <th>8</th>\n",
       "      <td>9</td>\n",
       "      <td>Skelly</td>\n",
       "      <td>Reimer</td>\n",
       "      <td>sreimer8@yellowpages.com</td>\n",
       "      <td>Male</td>\n",
       "      <td>GMC</td>\n",
       "      <td>Savana 3500</td>\n",
       "      <td>2003</td>\n",
       "    </tr>\n",
       "    <tr>\n",
       "      <th>9</th>\n",
       "      <td>10</td>\n",
       "      <td>Gearard</td>\n",
       "      <td>Wenn</td>\n",
       "      <td>gwenn9@npr.org</td>\n",
       "      <td>Male</td>\n",
       "      <td>Ford</td>\n",
       "      <td>Bronco</td>\n",
       "      <td>1996</td>\n",
       "    </tr>\n",
       "  </tbody>\n",
       "</table>\n",
       "</div>"
      ],
      "text/plain": [
       "   id first_name  last_name                        email      gender  \\\n",
       "0   1     Lucine  Allworthy   lallworthy0@craigslist.org      Female   \n",
       "1   2     Edgard   Demanche          edemanche1@furl.net        Male   \n",
       "2   3       Temp    Lappine  tlappine2@ezinearticles.com        Male   \n",
       "3   4     Carlos   Haggerty        chaggerty3@cpanel.net  Polygender   \n",
       "4   5       Shaw   Murrigan           smurrigan4@cnn.com        Male   \n",
       "5   6   Hilliard       Slym        hslym5@friendfeed.com        Male   \n",
       "6   7     Editha   Bonnette   ebonnette6@photobucket.com      Female   \n",
       "7   8      Lorin      Newns               lnewns7@gov.uk        Male   \n",
       "8   9     Skelly     Reimer     sreimer8@yellowpages.com        Male   \n",
       "9  10    Gearard       Wenn               gwenn9@npr.org        Male   \n",
       "\n",
       "        Car make      Car model  Car year  \n",
       "0            GMC    Savana 3500      2007  \n",
       "1          Honda          Civic      2004  \n",
       "2         Subaru            SVX      1996  \n",
       "3          Mazda           MX-5      2004  \n",
       "4          Dodge        Charger      2006  \n",
       "5  Mercedes-Benz          300SD      1992  \n",
       "6     Mitsubishi      Outlander      2008  \n",
       "7       Plymouth  Grand Voyager      1996  \n",
       "8            GMC    Savana 3500      2003  \n",
       "9           Ford         Bronco      1996  "
      ]
     },
     "execution_count": 3,
     "metadata": {},
     "output_type": "execute_result"
    }
   ],
   "source": [
    "import numpy as np\n",
    "import pandas as pd\n",
    "import seaborn as sns\n",
    "from sklearn.ensemble import IsolationForest\n",
    "data = pd.read_csv('MOCK_DATA.csv')\n",
    "data.head(10)"
   ]
  },
  {
   "cell_type": "code",
   "execution_count": 6,
   "id": "241601db-e37d-45c5-a017-a0845ba03745",
   "metadata": {},
   "outputs": [
    {
     "data": {
      "text/plain": [
       "Index(['id', 'first_name', 'last_name', 'email', 'gender', 'Car make',\n",
       "       'Car model', 'Car year'],\n",
       "      dtype='object')"
      ]
     },
     "execution_count": 6,
     "metadata": {},
     "output_type": "execute_result"
    }
   ],
   "source": [
    "data.columns"
   ]
  },
  {
   "cell_type": "code",
   "execution_count": 7,
   "id": "6792e141-7753-46bd-96be-2b9c1785081f",
   "metadata": {},
   "outputs": [
    {
     "data": {
      "text/plain": [
       "1000"
      ]
     },
     "execution_count": 7,
     "metadata": {},
     "output_type": "execute_result"
    }
   ],
   "source": [
    "len(data)"
   ]
  },
  {
   "cell_type": "code",
   "execution_count": 12,
   "id": "b14e1961-8f1e-475f-97bf-f4803b1ded5a",
   "metadata": {},
   "outputs": [
    {
     "data": {
      "text/html": [
       "<div>\n",
       "<style scoped>\n",
       "    .dataframe tbody tr th:only-of-type {\n",
       "        vertical-align: middle;\n",
       "    }\n",
       "\n",
       "    .dataframe tbody tr th {\n",
       "        vertical-align: top;\n",
       "    }\n",
       "\n",
       "    .dataframe thead th {\n",
       "        text-align: right;\n",
       "    }\n",
       "</style>\n",
       "<table border=\"1\" class=\"dataframe\">\n",
       "  <thead>\n",
       "    <tr style=\"text-align: right;\">\n",
       "      <th></th>\n",
       "      <th>id</th>\n",
       "      <th>first_name</th>\n",
       "      <th>last_name</th>\n",
       "      <th>email</th>\n",
       "      <th>gender</th>\n",
       "      <th>Car make</th>\n",
       "      <th>Car model</th>\n",
       "      <th>Car year</th>\n",
       "    </tr>\n",
       "  </thead>\n",
       "  <tbody>\n",
       "    <tr>\n",
       "      <th>0</th>\n",
       "      <td>1</td>\n",
       "      <td>Lucine</td>\n",
       "      <td>Allworthy</td>\n",
       "      <td>lallworthy0@craigslist.org</td>\n",
       "      <td>Female</td>\n",
       "      <td>GMC</td>\n",
       "      <td>Savana 3500</td>\n",
       "      <td>2007</td>\n",
       "    </tr>\n",
       "    <tr>\n",
       "      <th>1</th>\n",
       "      <td>2</td>\n",
       "      <td>Edgard</td>\n",
       "      <td>Demanche</td>\n",
       "      <td>edemanche1@furl.net</td>\n",
       "      <td>Male</td>\n",
       "      <td>Honda</td>\n",
       "      <td>Civic</td>\n",
       "      <td>2004</td>\n",
       "    </tr>\n",
       "    <tr>\n",
       "      <th>2</th>\n",
       "      <td>3</td>\n",
       "      <td>Temp</td>\n",
       "      <td>Lappine</td>\n",
       "      <td>tlappine2@ezinearticles.com</td>\n",
       "      <td>Male</td>\n",
       "      <td>Subaru</td>\n",
       "      <td>SVX</td>\n",
       "      <td>1996</td>\n",
       "    </tr>\n",
       "    <tr>\n",
       "      <th>3</th>\n",
       "      <td>4</td>\n",
       "      <td>Carlos</td>\n",
       "      <td>Haggerty</td>\n",
       "      <td>chaggerty3@cpanel.net</td>\n",
       "      <td>Polygender</td>\n",
       "      <td>Mazda</td>\n",
       "      <td>MX-5</td>\n",
       "      <td>2004</td>\n",
       "    </tr>\n",
       "    <tr>\n",
       "      <th>4</th>\n",
       "      <td>5</td>\n",
       "      <td>Shaw</td>\n",
       "      <td>Murrigan</td>\n",
       "      <td>smurrigan4@cnn.com</td>\n",
       "      <td>Male</td>\n",
       "      <td>Dodge</td>\n",
       "      <td>Charger</td>\n",
       "      <td>2006</td>\n",
       "    </tr>\n",
       "    <tr>\n",
       "      <th>5</th>\n",
       "      <td>6</td>\n",
       "      <td>Hilliard</td>\n",
       "      <td>Slym</td>\n",
       "      <td>hslym5@friendfeed.com</td>\n",
       "      <td>Male</td>\n",
       "      <td>Mercedes-Benz</td>\n",
       "      <td>300SD</td>\n",
       "      <td>1992</td>\n",
       "    </tr>\n",
       "    <tr>\n",
       "      <th>6</th>\n",
       "      <td>7</td>\n",
       "      <td>Editha</td>\n",
       "      <td>Bonnette</td>\n",
       "      <td>ebonnette6@photobucket.com</td>\n",
       "      <td>Female</td>\n",
       "      <td>Mitsubishi</td>\n",
       "      <td>Outlander</td>\n",
       "      <td>2008</td>\n",
       "    </tr>\n",
       "    <tr>\n",
       "      <th>7</th>\n",
       "      <td>8</td>\n",
       "      <td>Lorin</td>\n",
       "      <td>Newns</td>\n",
       "      <td>lnewns7@gov.uk</td>\n",
       "      <td>Male</td>\n",
       "      <td>Plymouth</td>\n",
       "      <td>Grand Voyager</td>\n",
       "      <td>1996</td>\n",
       "    </tr>\n",
       "    <tr>\n",
       "      <th>8</th>\n",
       "      <td>9</td>\n",
       "      <td>Skelly</td>\n",
       "      <td>Reimer</td>\n",
       "      <td>sreimer8@yellowpages.com</td>\n",
       "      <td>Male</td>\n",
       "      <td>GMC</td>\n",
       "      <td>Savana 3500</td>\n",
       "      <td>2003</td>\n",
       "    </tr>\n",
       "    <tr>\n",
       "      <th>9</th>\n",
       "      <td>10</td>\n",
       "      <td>Gearard</td>\n",
       "      <td>Wenn</td>\n",
       "      <td>gwenn9@npr.org</td>\n",
       "      <td>Male</td>\n",
       "      <td>Ford</td>\n",
       "      <td>Bronco</td>\n",
       "      <td>1996</td>\n",
       "    </tr>\n",
       "  </tbody>\n",
       "</table>\n",
       "</div>"
      ],
      "text/plain": [
       "   id first_name  last_name                        email      gender  \\\n",
       "0   1     Lucine  Allworthy   lallworthy0@craigslist.org      Female   \n",
       "1   2     Edgard   Demanche          edemanche1@furl.net        Male   \n",
       "2   3       Temp    Lappine  tlappine2@ezinearticles.com        Male   \n",
       "3   4     Carlos   Haggerty        chaggerty3@cpanel.net  Polygender   \n",
       "4   5       Shaw   Murrigan           smurrigan4@cnn.com        Male   \n",
       "5   6   Hilliard       Slym        hslym5@friendfeed.com        Male   \n",
       "6   7     Editha   Bonnette   ebonnette6@photobucket.com      Female   \n",
       "7   8      Lorin      Newns               lnewns7@gov.uk        Male   \n",
       "8   9     Skelly     Reimer     sreimer8@yellowpages.com        Male   \n",
       "9  10    Gearard       Wenn               gwenn9@npr.org        Male   \n",
       "\n",
       "        Car make      Car model  Car year  \n",
       "0            GMC    Savana 3500      2007  \n",
       "1          Honda          Civic      2004  \n",
       "2         Subaru            SVX      1996  \n",
       "3          Mazda           MX-5      2004  \n",
       "4          Dodge        Charger      2006  \n",
       "5  Mercedes-Benz          300SD      1992  \n",
       "6     Mitsubishi      Outlander      2008  \n",
       "7       Plymouth  Grand Voyager      1996  \n",
       "8            GMC    Savana 3500      2003  \n",
       "9           Ford         Bronco      1996  "
      ]
     },
     "execution_count": 12,
     "metadata": {},
     "output_type": "execute_result"
    }
   ],
   "source": [
    "data.head(10)"
   ]
  },
  {
   "cell_type": "code",
   "execution_count": 13,
   "id": "b4be16e8-8341-489b-81b7-68bc9965c8d6",
   "metadata": {},
   "outputs": [],
   "source": [
    "data.drop(['id','first_name','last_name','email'], axis = 1, inplace = True)"
   ]
  },
  {
   "cell_type": "code",
   "execution_count": 15,
   "id": "87550c88-8388-40e2-8849-325c551e22fb",
   "metadata": {},
   "outputs": [
    {
     "data": {
      "text/html": [
       "<div>\n",
       "<style scoped>\n",
       "    .dataframe tbody tr th:only-of-type {\n",
       "        vertical-align: middle;\n",
       "    }\n",
       "\n",
       "    .dataframe tbody tr th {\n",
       "        vertical-align: top;\n",
       "    }\n",
       "\n",
       "    .dataframe thead th {\n",
       "        text-align: right;\n",
       "    }\n",
       "</style>\n",
       "<table border=\"1\" class=\"dataframe\">\n",
       "  <thead>\n",
       "    <tr style=\"text-align: right;\">\n",
       "      <th></th>\n",
       "      <th>gender</th>\n",
       "      <th>Car make</th>\n",
       "      <th>Car model</th>\n",
       "      <th>Car year</th>\n",
       "    </tr>\n",
       "  </thead>\n",
       "  <tbody>\n",
       "    <tr>\n",
       "      <th>0</th>\n",
       "      <td>Female</td>\n",
       "      <td>GMC</td>\n",
       "      <td>Savana 3500</td>\n",
       "      <td>2007</td>\n",
       "    </tr>\n",
       "    <tr>\n",
       "      <th>1</th>\n",
       "      <td>Male</td>\n",
       "      <td>Honda</td>\n",
       "      <td>Civic</td>\n",
       "      <td>2004</td>\n",
       "    </tr>\n",
       "    <tr>\n",
       "      <th>2</th>\n",
       "      <td>Male</td>\n",
       "      <td>Subaru</td>\n",
       "      <td>SVX</td>\n",
       "      <td>1996</td>\n",
       "    </tr>\n",
       "    <tr>\n",
       "      <th>3</th>\n",
       "      <td>Polygender</td>\n",
       "      <td>Mazda</td>\n",
       "      <td>MX-5</td>\n",
       "      <td>2004</td>\n",
       "    </tr>\n",
       "    <tr>\n",
       "      <th>4</th>\n",
       "      <td>Male</td>\n",
       "      <td>Dodge</td>\n",
       "      <td>Charger</td>\n",
       "      <td>2006</td>\n",
       "    </tr>\n",
       "    <tr>\n",
       "      <th>5</th>\n",
       "      <td>Male</td>\n",
       "      <td>Mercedes-Benz</td>\n",
       "      <td>300SD</td>\n",
       "      <td>1992</td>\n",
       "    </tr>\n",
       "    <tr>\n",
       "      <th>6</th>\n",
       "      <td>Female</td>\n",
       "      <td>Mitsubishi</td>\n",
       "      <td>Outlander</td>\n",
       "      <td>2008</td>\n",
       "    </tr>\n",
       "    <tr>\n",
       "      <th>7</th>\n",
       "      <td>Male</td>\n",
       "      <td>Plymouth</td>\n",
       "      <td>Grand Voyager</td>\n",
       "      <td>1996</td>\n",
       "    </tr>\n",
       "    <tr>\n",
       "      <th>8</th>\n",
       "      <td>Male</td>\n",
       "      <td>GMC</td>\n",
       "      <td>Savana 3500</td>\n",
       "      <td>2003</td>\n",
       "    </tr>\n",
       "    <tr>\n",
       "      <th>9</th>\n",
       "      <td>Male</td>\n",
       "      <td>Ford</td>\n",
       "      <td>Bronco</td>\n",
       "      <td>1996</td>\n",
       "    </tr>\n",
       "  </tbody>\n",
       "</table>\n",
       "</div>"
      ],
      "text/plain": [
       "       gender       Car make      Car model  Car year\n",
       "0      Female            GMC    Savana 3500      2007\n",
       "1        Male          Honda          Civic      2004\n",
       "2        Male         Subaru            SVX      1996\n",
       "3  Polygender          Mazda           MX-5      2004\n",
       "4        Male          Dodge        Charger      2006\n",
       "5        Male  Mercedes-Benz          300SD      1992\n",
       "6      Female     Mitsubishi      Outlander      2008\n",
       "7        Male       Plymouth  Grand Voyager      1996\n",
       "8        Male            GMC    Savana 3500      2003\n",
       "9        Male           Ford         Bronco      1996"
      ]
     },
     "execution_count": 15,
     "metadata": {},
     "output_type": "execute_result"
    }
   ],
   "source": [
    "data.head(10)"
   ]
  },
  {
   "cell_type": "code",
   "execution_count": 18,
   "id": "a9dab962-bf9a-481b-8bce-2091b991aa40",
   "metadata": {},
   "outputs": [
    {
     "data": {
      "text/plain": [
       "Index(['gender', 'Car make', 'Car model', 'Car year'], dtype='object')"
      ]
     },
     "execution_count": 18,
     "metadata": {},
     "output_type": "execute_result"
    }
   ],
   "source": [
    "data.columns"
   ]
  },
  {
   "cell_type": "code",
   "execution_count": 21,
   "id": "592c7211-0565-47ef-93c3-4417a94b03e7",
   "metadata": {},
   "outputs": [],
   "source": [
    "data = data.rename(columns = {'Car year': 'Car_year'})"
   ]
  },
  {
   "cell_type": "code",
   "execution_count": 22,
   "id": "8b61a4cb-1627-40bc-b849-60646f944719",
   "metadata": {},
   "outputs": [
    {
     "data": {
      "text/plain": [
       "Index(['gender', 'Car make', 'Car model', 'Car_year'], dtype='object')"
      ]
     },
     "execution_count": 22,
     "metadata": {},
     "output_type": "execute_result"
    }
   ],
   "source": [
    "data.columns"
   ]
  },
  {
   "cell_type": "code",
   "execution_count": 26,
   "id": "3d47c746-2875-4041-ac74-94d703f293b6",
   "metadata": {},
   "outputs": [],
   "source": [
    "data.columns = data.columns.str.replace(' ','_')"
   ]
  },
  {
   "cell_type": "code",
   "execution_count": 27,
   "id": "eb4af7c9-39e9-4144-a57e-9e085c9b8c5d",
   "metadata": {},
   "outputs": [
    {
     "data": {
      "text/plain": [
       "Index(['gender', 'Car_make', 'Car_model', 'Car_year'], dtype='object')"
      ]
     },
     "execution_count": 27,
     "metadata": {},
     "output_type": "execute_result"
    }
   ],
   "source": [
    "data.columns"
   ]
  },
  {
   "cell_type": "code",
   "execution_count": 28,
   "id": "7d6fa3b6-15de-46df-ae1f-f647bb8d8ca5",
   "metadata": {},
   "outputs": [
    {
     "name": "stderr",
     "output_type": "stream",
     "text": [
      "C:\\Users\\Henry\\anaconda3\\envs\\dia-learning-1\\lib\\site-packages\\seaborn\\_decorators.py:36: FutureWarning: Pass the following variable as a keyword arg: x. From version 0.12, the only valid positional argument will be `data`, and passing other arguments without an explicit keyword will result in an error or misinterpretation.\n",
      "  warnings.warn(\n"
     ]
    },
    {
     "data": {
      "text/plain": [
       "<AxesSubplot:xlabel='Car_year'>"
      ]
     },
     "execution_count": 28,
     "metadata": {},
     "output_type": "execute_result"
    },
    {
     "data": {
      "image/png": "[encoded data removed]",
      "text/plain": [
       "<Figure size 432x288 with 1 Axes>"
      ]
     },
     "metadata": {
      "needs_background": "light"
     },
     "output_type": "display_data"
    }
   ],
   "source": [
    "sns.boxplot(data.Car_year)"
   ]
  },
  {
   "cell_type": "code",
   "execution_count": 30,
   "id": "f7a8db2c-1fe4-4df4-8523-38c716b498cd",
   "metadata": {},
   "outputs": [],
   "source": [
    "from matplotlib import pyplot as plt\n",
    "import numpy as np"
   ]
  },
  {
   "cell_type": "code",
   "execution_count": 31,
   "id": "6883355a-4500-4db1-8687-9c80eca40ef4",
   "metadata": {},
   "outputs": [
    {
     "data": {
      "text/plain": [
       "Ford             91\n",
       "Chevrolet        66\n",
       "Toyota           54\n",
       "Dodge            46\n",
       "Mercedes-Benz    45\n",
       "Mitsubishi       39\n",
       "GMC              37\n",
       "Volkswagen       37\n",
       "BMW              36\n",
       "Pontiac          36\n",
       "Mazda            35\n",
       "Audi             32\n",
       "Nissan           27\n",
       "Honda            26\n",
       "Subaru           24\n",
       "Lexus            23\n",
       "Oldsmobile       22\n",
       "Suzuki           21\n",
       "Volvo            20\n",
       "Buick            20\n",
       "Mercury          17\n",
       "Hyundai          17\n",
       "Cadillac         17\n",
       "Chrysler         16\n",
       "Acura            16\n",
       "Infiniti         15\n",
       "Land Rover       15\n",
       "Kia              14\n",
       "Lincoln          13\n",
       "Porsche          10\n",
       "Plymouth         10\n",
       "Saab             10\n",
       "Saturn            9\n",
       "Jeep              8\n",
       "Maserati          8\n",
       "Jaguar            6\n",
       "Lamborghini       6\n",
       "Lotus             6\n",
       "Isuzu             5\n",
       "MINI              5\n",
       "Maybach           5\n",
       "Aston Martin      4\n",
       "Hummer            4\n",
       "Scion             4\n",
       "Austin            3\n",
       "Alfa Romeo        3\n",
       "Geo               3\n",
       "Bentley           3\n",
       "Rolls-Royce       3\n",
       "Holden            2\n",
       "Panoz             2\n",
       "Eagle             2\n",
       "Daewoo            1\n",
       "Ram               1\n",
       "Name: Car_make, dtype: int64"
      ]
     },
     "execution_count": 31,
     "metadata": {},
     "output_type": "execute_result"
    }
   ],
   "source": [
    "data.Car_make.value_counts()"
   ]
  },
  {
   "cell_type": "code",
   "execution_count": 38,
   "id": "991e9486-28f5-4f18-9918-366bf4ed64bb",
   "metadata": {},
   "outputs": [
    {
     "ename": "SyntaxError",
     "evalue": "positional argument follows keyword argument (2702346855.py, line 2)",
     "output_type": "error",
     "traceback": [
      "\u001b[1;36m  Input \u001b[1;32mIn [38]\u001b[1;36m\u001b[0m\n\u001b[1;33m    plt.figure(figsize = (10),(10))\u001b[0m\n\u001b[1;37m                                  ^\u001b[0m\n\u001b[1;31mSyntaxError\u001b[0m\u001b[1;31m:\u001b[0m positional argument follows keyword argument\n"
     ]
    }
   ],
   "source": [
    "ax = data.Car_make.value_counts().plot(kind = 'barh')\n",
    "plt.figure(figsize = (10),(10))"
   ]
  },
  {
   "cell_type": "code",
   "execution_count": 32,
   "id": "51094321-1098-437c-9160-78f75e05542b",
   "metadata": {},
   "outputs": [
    {
     "data": {
      "text/plain": [
       "Index(['gender', 'Car_make', 'Car_model', 'Car_year'], dtype='object')"
      ]
     },
     "execution_count": 32,
     "metadata": {},
     "output_type": "execute_result"
    }
   ],
   "source": [
    "data.columns"
   ]
  },
  {
   "cell_type": "code",
   "execution_count": 33,
   "id": "9fa6fbc2-46fc-4d1e-9a18-0838ed75837e",
   "metadata": {},
   "outputs": [
    {
     "data": {
      "text/plain": [
       "Female         461\n",
       "Male           448\n",
       "Bigender        20\n",
       "Agender         19\n",
       "Genderqueer     15\n",
       "Non-binary      13\n",
       "Polygender      12\n",
       "Genderfluid     12\n",
       "Name: gender, dtype: int64"
      ]
     },
     "execution_count": 33,
     "metadata": {},
     "output_type": "execute_result"
    }
   ],
   "source": [
    "data.gender.value_counts()"
   ]
  },
  {
   "cell_type": "code",
   "execution_count": null,
   "id": "656d10cf-22fd-4265-8f8f-388a00bdd35c",
   "metadata": {},
   "outputs": [],
   "source": []
  }
 ],
 "metadata": {
  "kernelspec": {
   "display_name": "Python 3 (ipykernel)",
   "language": "python",
   "name": "python3"
  },
  "language_info": {
   "codemirror_mode": {
    "name": "ipython",
    "version": 3
   },
   "file_extension": ".py",
   "mimetype": "text/x-python",
   "name": "python",
   "nbconvert_exporter": "python",
   "pygments_lexer": "ipython3",
   "version": "3.10.4"
  }
 },
 "nbformat": 4,
 "nbformat_minor": 5
}
